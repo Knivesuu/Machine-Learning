{
 "cells": [
  {
   "cell_type": "code",
   "execution_count": 195,
   "id": "f47c4969",
   "metadata": {},
   "outputs": [],
   "source": [
    "%matplotlib inline\n"
   ]
  },
  {
   "cell_type": "code",
   "execution_count": 196,
   "id": "149aaa99",
   "metadata": {},
   "outputs": [
    {
     "data": {
      "text/plain": [
       "array([-1.        , -0.89473684, -0.78947368, -0.68421053, -0.57894737,\n",
       "       -0.47368421, -0.36842105, -0.26315789, -0.15789474, -0.05263158,\n",
       "        0.05263158,  0.15789474,  0.26315789,  0.36842105,  0.47368421,\n",
       "        0.57894737,  0.68421053,  0.78947368,  0.89473684,  1.        ])"
      ]
     },
     "execution_count": 196,
     "metadata": {},
     "output_type": "execute_result"
    }
   ],
   "source": [
    "y_hat = np.linspace(-1,1,num=20); \n",
    "y_hat"
   ]
  },
  {
   "cell_type": "code",
   "execution_count": 197,
   "id": "84088eaa",
   "metadata": {},
   "outputs": [
    {
     "data": {
      "text/plain": [
       "array([0.        , 0.05263158, 0.10526316, 0.15789474, 0.21052632,\n",
       "       0.26315789, 0.31578947, 0.36842105, 0.42105263, 0.47368421,\n",
       "       0.52631579, 0.57894737, 0.63157895, 0.68421053, 0.73684211,\n",
       "       0.78947368, 0.84210526, 0.89473684, 0.94736842, 1.        ])"
      ]
     },
     "execution_count": 197,
     "metadata": {},
     "output_type": "execute_result"
    }
   ],
   "source": [
    "y = np.linspace(0,1,num=20);\n",
    "y"
   ]
  },
  {
   "cell_type": "code",
   "execution_count": 198,
   "id": "63a66f05",
   "metadata": {},
   "outputs": [
    {
     "data": {
      "text/plain": [
       "(20,)"
      ]
     },
     "execution_count": 198,
     "metadata": {},
     "output_type": "execute_result"
    }
   ],
   "source": [
    "y.shape"
   ]
  },
  {
   "cell_type": "code",
   "execution_count": 199,
   "id": "f956912c",
   "metadata": {},
   "outputs": [
    {
     "data": {
      "text/plain": [
       "(20,)"
      ]
     },
     "execution_count": 199,
     "metadata": {},
     "output_type": "execute_result"
    }
   ],
   "source": [
    "y_hat.shape"
   ]
  },
  {
   "cell_type": "code",
   "execution_count": 200,
   "id": "57d8576a",
   "metadata": {},
   "outputs": [
    {
     "data": {
      "text/plain": [
       "1"
      ]
     },
     "execution_count": 200,
     "metadata": {},
     "output_type": "execute_result"
    }
   ],
   "source": [
    "y.ndim"
   ]
  },
  {
   "cell_type": "code",
   "execution_count": 201,
   "id": "f70cbb75",
   "metadata": {},
   "outputs": [
    {
     "data": {
      "text/plain": [
       "1"
      ]
     },
     "execution_count": 201,
     "metadata": {},
     "output_type": "execute_result"
    }
   ],
   "source": [
    "y_hat.ndim"
   ]
  },
  {
   "cell_type": "markdown",
   "id": "a48feb01",
   "metadata": {},
   "source": [
    "##### Mean Absolute Error \n",
    "\n",
    "given n = 20, y_hat, y\n",
    "Pseudonym\n",
    "Loss value = (1/20) x Summation absolute difference of Ys\n",
    "Absolute Difference = |y_hat - y)|"
   ]
  },
  {
   "cell_type": "code",
   "execution_count": 216,
   "id": "605b28d0",
   "metadata": {},
   "outputs": [
    {
     "name": "stdout",
     "output_type": "stream",
     "text": [
      "MAE = 0.49999999999999994\n"
     ]
    }
   ],
   "source": [
    "\n",
    "\n",
    "Absolute_Difference = (abs(y_hat - y));\n",
    "\n",
    "Sum = np.sum(Absolute_Difference);\n",
    "\n",
    "L = 1/n * Sum;\n",
    "\n",
    "print(\"MAE =\",L);"
   ]
  },
  {
   "cell_type": "markdown",
   "id": "203af8ab",
   "metadata": {},
   "source": [
    "##### Mean Squared Error \n",
    "\n",
    "Pseudonym\n",
    "\n",
    "L = ((1/20) * Summation of differences of Ys in one array)\n",
    "Differences of Ys in the array = (y_hat + (- y))^2"
   ]
  },
  {
   "cell_type": "code",
   "execution_count": 217,
   "id": "fdfd1628",
   "metadata": {},
   "outputs": [
    {
     "name": "stdout",
     "output_type": "stream",
     "text": [
      "MSE =  0.3421052631578948\n"
     ]
    }
   ],
   "source": [
    "y_hat = np.linspace(-1,1,num=20); \n",
    "\n",
    "y = np.linspace(0,1,num=20);\n",
    "\n",
    "N = 20;\n",
    "\n",
    "Sum = np.sum((y_hat - y)**2);\n",
    "\n",
    "L = 1/N * Sum;\n",
    "\n",
    "print('MSE = ',L);"
   ]
  },
  {
   "cell_type": "markdown",
   "id": "4fab8de9",
   "metadata": {},
   "source": [
    "##### Mean Squared Logarithmic Error: \n",
    "Pseudonym\n",
    "    L = ((1/n) * SUMMATION of [(log(y_hat+1) - ( log(y+1)))^2]\n",
    "    "
   ]
  },
  {
   "cell_type": "code",
   "execution_count": 218,
   "id": "9d7e460c",
   "metadata": {},
   "outputs": [
    {
     "name": "stdout",
     "output_type": "stream",
     "text": [
      "MSLE =  0.6704976788287295\n"
     ]
    },
    {
     "name": "stderr",
     "output_type": "stream",
     "text": [
      "C:\\Users\\User\\AppData\\Local\\Temp\\ipykernel_17116\\381462384.py:1: RuntimeWarning: divide by zero encountered in log\n",
      "  array = (np.log(y_hat + 1) - np.log(y + 1))**2\n"
     ]
    }
   ],
   "source": [
    "\n",
    "array = (np.log(y_hat + 1) - np.log(y + 1))**2\n",
    "Sum = np.sum(array[1:-1]);\n",
    "\n",
    "L = 1/n * Sum;\n",
    "\n",
    "print('MSLE = ',L);"
   ]
  },
  {
   "cell_type": "markdown",
   "id": "a534ac92",
   "metadata": {},
   "source": [
    "##### Mean Absolute Percentage Error:\n",
    "n=20\n",
    "    L = 100%/n * (absolute((y_hat - y)/y)"
   ]
  },
  {
   "cell_type": "code",
   "execution_count": 219,
   "id": "0b560fbe",
   "metadata": {},
   "outputs": [
    {
     "name": "stdout",
     "output_type": "stream",
     "text": [
      "MAPE =  242.03526742864983 %\n"
     ]
    },
    {
     "name": "stderr",
     "output_type": "stream",
     "text": [
      "C:\\Users\\User\\AppData\\Local\\Temp\\ipykernel_17116\\1636896297.py:1: RuntimeWarning: divide by zero encountered in true_divide\n",
      "  Quotients = abs((y_hat-y)/y);\n"
     ]
    }
   ],
   "source": [
    "\n",
    "Quotients = abs((y_hat-y)/y);\n",
    "\n",
    "Sum = np.sum(Quotients[1:-1]);\n",
    "\n",
    "L =( 100 * Sum) / n;\n",
    " \n",
    "print('MAPE = ',L,\"%\")"
   ]
  },
  {
   "cell_type": "markdown",
   "id": "59e878ae",
   "metadata": {},
   "source": [
    "Part 2"
   ]
  },
  {
   "cell_type": "markdown",
   "id": "c58cf210",
   "metadata": {},
   "source": [
    "##### Create a 1d array M {1, 2, …16} using the arange function"
   ]
  },
  {
   "cell_type": "code",
   "execution_count": 220,
   "id": "0afebd87",
   "metadata": {},
   "outputs": [
    {
     "data": {
      "text/plain": [
       "array([ 1,  2,  3,  4,  5,  6,  7,  8,  9, 10, 11, 12, 13, 14, 15, 16])"
      ]
     },
     "execution_count": 220,
     "metadata": {},
     "output_type": "execute_result"
    }
   ],
   "source": [
    "M = np.arange(1,17)\n",
    "M"
   ]
  },
  {
   "cell_type": "markdown",
   "id": "7efdc794",
   "metadata": {},
   "source": [
    "###### Reshape M into 4x4 array and store it to N"
   ]
  },
  {
   "cell_type": "code",
   "execution_count": 221,
   "id": "264e75be",
   "metadata": {},
   "outputs": [
    {
     "data": {
      "text/plain": [
       "array([[ 1,  2,  3,  4],\n",
       "       [ 5,  6,  7,  8],\n",
       "       [ 9, 10, 11, 12],\n",
       "       [13, 14, 15, 16]])"
      ]
     },
     "execution_count": 221,
     "metadata": {},
     "output_type": "execute_result"
    }
   ],
   "source": [
    "N = M.reshape(4,4)\n",
    "N"
   ]
  },
  {
   "cell_type": "markdown",
   "id": "ff9194ef",
   "metadata": {},
   "source": [
    "##### Get the 2nd row of N"
   ]
  },
  {
   "cell_type": "code",
   "execution_count": 222,
   "id": "5c62ef1a",
   "metadata": {},
   "outputs": [
    {
     "data": {
      "text/plain": [
       "array([[5, 6, 7, 8]])"
      ]
     },
     "execution_count": 222,
     "metadata": {},
     "output_type": "execute_result"
    }
   ],
   "source": [
    "N[1:2,0:5]"
   ]
  },
  {
   "cell_type": "markdown",
   "id": "14b14a99",
   "metadata": {},
   "source": [
    "##### Get the minimum values for each column of N"
   ]
  },
  {
   "cell_type": "code",
   "execution_count": 211,
   "id": "5256783e",
   "metadata": {},
   "outputs": [
    {
     "data": {
      "text/plain": [
       "array([1, 2, 3, 4])"
      ]
     },
     "execution_count": 211,
     "metadata": {},
     "output_type": "execute_result"
    }
   ],
   "source": [
    "np.min(N, axis=0)"
   ]
  },
  {
   "cell_type": "markdown",
   "id": "47e20f76",
   "metadata": {},
   "source": [
    "##### Get the locations of the minimum values for each column of N\n"
   ]
  },
  {
   "cell_type": "code",
   "execution_count": 212,
   "id": "496a137b",
   "metadata": {},
   "outputs": [
    {
     "data": {
      "text/plain": [
       "array([0, 0, 0, 0], dtype=int64)"
      ]
     },
     "execution_count": 212,
     "metadata": {},
     "output_type": "execute_result"
    }
   ],
   "source": [
    "np.argmin(N, axis=0)"
   ]
  },
  {
   "cell_type": "markdown",
   "id": "7e152835",
   "metadata": {},
   "source": [
    "##### Get the average of the whole matrix\n",
    "\n"
   ]
  },
  {
   "cell_type": "code",
   "execution_count": 213,
   "id": "51f3d36e",
   "metadata": {},
   "outputs": [
    {
     "data": {
      "text/plain": [
       "8.5"
      ]
     },
     "execution_count": 213,
     "metadata": {},
     "output_type": "execute_result"
    }
   ],
   "source": [
    "average(N)"
   ]
  },
  {
   "cell_type": "markdown",
   "id": "a2110cb3",
   "metadata": {},
   "source": [
    "##### Create a vector V with 4 elements, each element is 1\n"
   ]
  },
  {
   "cell_type": "code",
   "execution_count": 214,
   "id": "121dc294",
   "metadata": {},
   "outputs": [
    {
     "data": {
      "text/plain": [
       "array([1, 1, 1, 1])"
      ]
     },
     "execution_count": 214,
     "metadata": {},
     "output_type": "execute_result"
    }
   ],
   "source": [
    "V = np.array([1,1,1,1])\n",
    "V"
   ]
  },
  {
   "cell_type": "markdown",
   "id": "4f1ce45a",
   "metadata": {},
   "source": [
    "##### Take the dot product of N and V"
   ]
  },
  {
   "cell_type": "code",
   "execution_count": 215,
   "id": "5c564815",
   "metadata": {},
   "outputs": [
    {
     "data": {
      "text/plain": [
       "array([10, 26, 42, 58])"
      ]
     },
     "execution_count": 215,
     "metadata": {},
     "output_type": "execute_result"
    }
   ],
   "source": [
    "np.dot(N,V)"
   ]
  },
  {
   "cell_type": "code",
   "execution_count": null,
   "id": "0a09985d",
   "metadata": {},
   "outputs": [],
   "source": []
  }
 ],
 "metadata": {
  "kernelspec": {
   "display_name": "Python 3 (ipykernel)",
   "language": "python",
   "name": "python3"
  },
  "language_info": {
   "codemirror_mode": {
    "name": "ipython",
    "version": 3
   },
   "file_extension": ".py",
   "mimetype": "text/x-python",
   "name": "python",
   "nbconvert_exporter": "python",
   "pygments_lexer": "ipython3",
   "version": "3.9.12"
  }
 },
 "nbformat": 4,
 "nbformat_minor": 5
}
