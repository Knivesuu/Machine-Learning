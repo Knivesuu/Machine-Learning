{
 "cells": [
  {
   "cell_type": "code",
   "execution_count": 1,
   "id": "1d4ad5aa",
   "metadata": {},
   "outputs": [],
   "source": [
    "import numpy as np\n",
    "import pandas as pd\n",
    "import matplotlib.pyplot as plt\n"
   ]
  },
  {
   "cell_type": "code",
   "execution_count": 2,
   "id": "e64f4644",
   "metadata": {},
   "outputs": [],
   "source": [
    "# %matplotlib inline\n",
    "###for preprocessing\n",
    "from sklearn.model_selection import train_test_split\n",
    "\n",
    "from sklearn.metrics import r2_score, mean_absolute_error, mean_squared_error\n",
    "from sklearn.model_selection import cross_val_score "
   ]
  },
  {
   "cell_type": "code",
   "execution_count": 3,
   "id": "fb560c93",
   "metadata": {},
   "outputs": [
    {
     "name": "stdout",
     "output_type": "stream",
     "text": [
      "(200, 5)\n"
     ]
    }
   ],
   "source": [
    "data = pd.read_csv(\"./Advertising.csv\")\n",
    "print(data.shape)"
   ]
  },
  {
   "cell_type": "markdown",
   "id": "79e846f1",
   "metadata": {},
   "source": [
    "# STANDARDIZATION"
   ]
  },
  {
   "cell_type": "code",
   "execution_count": 4,
   "id": "b13d551c",
   "metadata": {},
   "outputs": [
    {
     "data": {
      "text/html": [
       "<div>\n",
       "<style scoped>\n",
       "    .dataframe tbody tr th:only-of-type {\n",
       "        vertical-align: middle;\n",
       "    }\n",
       "\n",
       "    .dataframe tbody tr th {\n",
       "        vertical-align: top;\n",
       "    }\n",
       "\n",
       "    .dataframe thead th {\n",
       "        text-align: right;\n",
       "    }\n",
       "</style>\n",
       "<table border=\"1\" class=\"dataframe\">\n",
       "  <thead>\n",
       "    <tr style=\"text-align: right;\">\n",
       "      <th></th>\n",
       "      <th>X</th>\n",
       "      <th>nm_TV</th>\n",
       "      <th>nm_Radio</th>\n",
       "      <th>nm_Newspaper</th>\n",
       "      <th>nm_Sales</th>\n",
       "    </tr>\n",
       "  </thead>\n",
       "  <tbody>\n",
       "    <tr>\n",
       "      <th>0</th>\n",
       "      <td>1</td>\n",
       "      <td>0.969852</td>\n",
       "      <td>0.981522</td>\n",
       "      <td>1.778945</td>\n",
       "      <td>-1.624396</td>\n",
       "    </tr>\n",
       "    <tr>\n",
       "      <th>1</th>\n",
       "      <td>1</td>\n",
       "      <td>-1.197376</td>\n",
       "      <td>1.082808</td>\n",
       "      <td>0.669579</td>\n",
       "      <td>-3.872495</td>\n",
       "    </tr>\n",
       "    <tr>\n",
       "      <th>2</th>\n",
       "      <td>1</td>\n",
       "      <td>-1.516155</td>\n",
       "      <td>1.528463</td>\n",
       "      <td>1.783549</td>\n",
       "      <td>-4.083855</td>\n",
       "    </tr>\n",
       "    <tr>\n",
       "      <th>3</th>\n",
       "      <td>1</td>\n",
       "      <td>0.052050</td>\n",
       "      <td>1.217855</td>\n",
       "      <td>1.286405</td>\n",
       "      <td>-2.316119</td>\n",
       "    </tr>\n",
       "    <tr>\n",
       "      <th>4</th>\n",
       "      <td>1</td>\n",
       "      <td>0.394182</td>\n",
       "      <td>-0.841614</td>\n",
       "      <td>1.281802</td>\n",
       "      <td>-3.392132</td>\n",
       "    </tr>\n",
       "    <tr>\n",
       "      <th>...</th>\n",
       "      <td>...</td>\n",
       "      <td>...</td>\n",
       "      <td>...</td>\n",
       "      <td>...</td>\n",
       "      <td>...</td>\n",
       "    </tr>\n",
       "    <tr>\n",
       "      <th>195</th>\n",
       "      <td>1</td>\n",
       "      <td>-1.270941</td>\n",
       "      <td>-1.321031</td>\n",
       "      <td>-0.771217</td>\n",
       "      <td>-4.410502</td>\n",
       "    </tr>\n",
       "    <tr>\n",
       "      <th>196</th>\n",
       "      <td>1</td>\n",
       "      <td>-0.617035</td>\n",
       "      <td>-1.240003</td>\n",
       "      <td>-1.033598</td>\n",
       "      <td>-4.006997</td>\n",
       "    </tr>\n",
       "    <tr>\n",
       "      <th>197</th>\n",
       "      <td>1</td>\n",
       "      <td>0.349810</td>\n",
       "      <td>-0.942899</td>\n",
       "      <td>-1.111852</td>\n",
       "      <td>-3.411346</td>\n",
       "    </tr>\n",
       "    <tr>\n",
       "      <th>198</th>\n",
       "      <td>1</td>\n",
       "      <td>1.594565</td>\n",
       "      <td>1.265121</td>\n",
       "      <td>1.640850</td>\n",
       "      <td>-0.971102</td>\n",
       "    </tr>\n",
       "    <tr>\n",
       "      <th>199</th>\n",
       "      <td>1</td>\n",
       "      <td>0.993206</td>\n",
       "      <td>-0.990165</td>\n",
       "      <td>-1.005979</td>\n",
       "      <td>-3.296059</td>\n",
       "    </tr>\n",
       "  </tbody>\n",
       "</table>\n",
       "<p>200 rows × 5 columns</p>\n",
       "</div>"
      ],
      "text/plain": [
       "     X     nm_TV  nm_Radio  nm_Newspaper  nm_Sales\n",
       "0    1  0.969852  0.981522      1.778945 -1.624396\n",
       "1    1 -1.197376  1.082808      0.669579 -3.872495\n",
       "2    1 -1.516155  1.528463      1.783549 -4.083855\n",
       "3    1  0.052050  1.217855      1.286405 -2.316119\n",
       "4    1  0.394182 -0.841614      1.281802 -3.392132\n",
       "..  ..       ...       ...           ...       ...\n",
       "195  1 -1.270941 -1.321031     -0.771217 -4.410502\n",
       "196  1 -0.617035 -1.240003     -1.033598 -4.006997\n",
       "197  1  0.349810 -0.942899     -1.111852 -3.411346\n",
       "198  1  1.594565  1.265121      1.640850 -0.971102\n",
       "199  1  0.993206 -0.990165     -1.005979 -3.296059\n",
       "\n",
       "[200 rows x 5 columns]"
      ]
     },
     "execution_count": 4,
     "metadata": {},
     "output_type": "execute_result"
    }
   ],
   "source": [
    "###standardized each column of the data frame \n",
    "###This ensures that the data is centered around zero and that standard deviation is always 1\n",
    "###Created new dataframe for the standardized values\n",
    "mean  = data['TV'].mean()\n",
    "data['nm_TV'] = (data['TV'] - mean) / np.std(data['TV'])\n",
    "\n",
    "mean  = data['Radio'].mean()\n",
    "data['nm_Radio'] = (data['Radio'] - mean) / np.std(data['Radio'])\n",
    "\n",
    "mean  = data['Newspaper'].mean()\n",
    "data['nm_Newspaper'] = (data['Newspaper'] - mean) / np.std(data['Newspaper'])\n",
    "\n",
    "standard  = data['Sales'].mean()\n",
    "data['nm_Sales'] = (data['Sales'] - mean) / np.std(data['Sales'])\n",
    "\n",
    "### added an extra column composing of all ones to X\n",
    "\n",
    "data['X'] = 1\n",
    "new_data = data[['X','nm_TV','nm_Radio','nm_Newspaper','nm_Sales']]\n",
    "new_data"
   ]
  },
  {
   "cell_type": "markdown",
   "id": "0dd92802",
   "metadata": {},
   "source": [
    "# MODEL OPTIMIZATION\n"
   ]
  },
  {
   "cell_type": "markdown",
   "id": "b791f252",
   "metadata": {},
   "source": [
    "### SPLIT DATASET TO TRAINING SET AND TESTING SET"
   ]
  },
  {
   "cell_type": "code",
   "execution_count": 5,
   "id": "13c83478",
   "metadata": {},
   "outputs": [],
   "source": [
    "### x --> standardized TV Radio Newspaper clmns; y --> standardized Sales clmns \n",
    "x = new_data[['nm_TV','nm_Radio','nm_Newspaper']]\n",
    "y = new_data['nm_Sales']\n",
    "x_training, x_testing, y_training, y_testing = train_test_split(x,y, test_size = 0.25 , random_state = 1)\n",
    "\n"
   ]
  },
  {
   "cell_type": "markdown",
   "id": "a218ccd7",
   "metadata": {},
   "source": [
    "### CREATE FUNCTIONS"
   ]
  },
  {
   "cell_type": "code",
   "execution_count": 6,
   "id": "4bf26afe",
   "metadata": {},
   "outputs": [],
   "source": [
    "### initialize weights: using numpy's random.rand() conveniently picks random numbers between 0 n' 1\n",
    "### can also set init_w with array of 4 0's\n",
    "def initialize_weights():\n",
    "#     init_w=np.random.rand(4)\n",
    "    init_w=np.array([0.0,0.0,0.0,0.0])\n",
    "    return init_w\n",
    "\n",
    "### predicted values y_hat ; y_hat = bias + predictors x X\n",
    "def predict(weights,x):\n",
    "    # first weight [0] is the bias \n",
    "    bias = weights[0]\n",
    "    # the rest are weights of predictors\n",
    "    predictors = weights[1:4]\n",
    "    y_hat = bias + np.dot(x,predictors)\n",
    "    return y_hat\n",
    "\n",
    "# compute cost function and return value to determine accuracy of model\n",
    "def compute_cost(y,y_hat):\n",
    "    error_value =y - y_hat\n",
    "    #cost function formula\n",
    "    cost_fn = np.sum(np.dot(error_value.T,error_value))/len(y)*2\n",
    "    return cost_fn\n",
    "\n",
    "def compute_gradient(x,y,y_hat,learning_rate):\n",
    "    # separated equation into varying variables to easily understand\n",
    "    #for the bias \n",
    "    d_b=(np.sum(y_hat-y))/len(y)\n",
    "    #for the predictors\n",
    "    d_w=(np.dot((y_hat-y),x))/len(y)\n",
    "    #multiply it(bias n' predictors) with alpha\n",
    "    derivative_bias=learning_rate*d_b\n",
    "    derivative_predictors=learning_rate*d_w\n",
    "    w = np.insert(derivative_predictors,0,derivative_bias,axis=0)\n",
    "    #return matrix w\n",
    "    return w\n",
    "\n",
    "def update_weights(derivatives, weights):\n",
    "    # update new weights; just subtract product of cf and alpha\n",
    "    bias = weights[0]\n",
    "    predictors = weights[1:4]\n",
    "    n_bias = bias - derivatives[0]\n",
    "    n_predictors = predictors - derivatives[1:4]\n",
    "    weights = np.insert(n_predictors,0,n_bias,axis=0)\n",
    "    # return matrix\n",
    "    return weights\n",
    "    \n",
    "def grad_descent(x,y,alpha,num_iterations):\n",
    "    # initialize weights; dont insert it on our for loop, otherwise it wont make sense:'(\n",
    "    weights=initialize_weights()\n",
    "    counter=0\n",
    "    item=0\n",
    "    #create column for iteration and cost n' weight per iteration \n",
    "    w_gd_c_matrix=pd.DataFrame(columns=['y_hat','iteration','weights','cost'])\n",
    "    for each_iter in range(num_iterations):\n",
    "        #call predict function\n",
    "        y_hat=predict(weights,x)\n",
    "        #compute cf\n",
    "        current_cf=compute_cost(y,y_hat)\n",
    "        #get the derivative\n",
    "        partial_derivatives=compute_gradient(x,y,y_hat,alpha)\n",
    "        #subtract derivative to bias or predictor/s\n",
    "        temp_weights = weights\n",
    "        weights = update_weights(partial_derivatives,temp_weights)\n",
    "        if(counter%1==0):\n",
    "            w_gd_c_matrix.loc[item]=[y_hat,counter,weights,current_cf]\n",
    "        item=item+1\n",
    "        counter +=1\n",
    "    # return 2 matrices + final weight, dataframe\n",
    "    weights_per_iter = np.matrix(w_gd_c_matrix[['weights']])\n",
    "    cost_per_iter =np.matrix(w_gd_c_matrix[['cost']])   \n",
    "    return weights_per_iter,cost_per_iter,w_gd_c_matrix,weights\n",
    "\n",
    "\n",
    "\n",
    "\n"
   ]
  },
  {
   "cell_type": "markdown",
   "id": "138e9b76",
   "metadata": {},
   "source": [
    "### gradient descent for training set"
   ]
  },
  {
   "cell_type": "code",
   "execution_count": 12,
   "id": "d1893baa",
   "metadata": {},
   "outputs": [
    {
     "name": "stdout",
     "output_type": "stream",
     "text": [
      "[-3.17286856  0.7658388   0.49978682  0.02639514]\n"
     ]
    },
    {
     "data": {
      "text/html": [
       "<div>\n",
       "<style scoped>\n",
       "    .dataframe tbody tr th:only-of-type {\n",
       "        vertical-align: middle;\n",
       "    }\n",
       "\n",
       "    .dataframe tbody tr th {\n",
       "        vertical-align: top;\n",
       "    }\n",
       "\n",
       "    .dataframe thead th {\n",
       "        text-align: right;\n",
       "    }\n",
       "</style>\n",
       "<table border=\"1\" class=\"dataframe\">\n",
       "  <thead>\n",
       "    <tr style=\"text-align: right;\">\n",
       "      <th></th>\n",
       "      <th>iteration</th>\n",
       "      <th>cost</th>\n",
       "    </tr>\n",
       "  </thead>\n",
       "  <tbody>\n",
       "    <tr>\n",
       "      <th>0</th>\n",
       "      <td>0</td>\n",
       "      <td>22.778007</td>\n",
       "    </tr>\n",
       "    <tr>\n",
       "      <th>1</th>\n",
       "      <td>1</td>\n",
       "      <td>22.730923</td>\n",
       "    </tr>\n",
       "    <tr>\n",
       "      <th>2</th>\n",
       "      <td>2</td>\n",
       "      <td>22.683938</td>\n",
       "    </tr>\n",
       "    <tr>\n",
       "      <th>3</th>\n",
       "      <td>3</td>\n",
       "      <td>22.637053</td>\n",
       "    </tr>\n",
       "    <tr>\n",
       "      <th>4</th>\n",
       "      <td>4</td>\n",
       "      <td>22.590268</td>\n",
       "    </tr>\n",
       "    <tr>\n",
       "      <th>...</th>\n",
       "      <td>...</td>\n",
       "      <td>...</td>\n",
       "    </tr>\n",
       "    <tr>\n",
       "      <th>5995</th>\n",
       "      <td>5995</td>\n",
       "      <td>0.228344</td>\n",
       "    </tr>\n",
       "    <tr>\n",
       "      <th>5996</th>\n",
       "      <td>5996</td>\n",
       "      <td>0.228344</td>\n",
       "    </tr>\n",
       "    <tr>\n",
       "      <th>5997</th>\n",
       "      <td>5997</td>\n",
       "      <td>0.228343</td>\n",
       "    </tr>\n",
       "    <tr>\n",
       "      <th>5998</th>\n",
       "      <td>5998</td>\n",
       "      <td>0.228343</td>\n",
       "    </tr>\n",
       "    <tr>\n",
       "      <th>5999</th>\n",
       "      <td>5999</td>\n",
       "      <td>0.228342</td>\n",
       "    </tr>\n",
       "  </tbody>\n",
       "</table>\n",
       "<p>6000 rows × 2 columns</p>\n",
       "</div>"
      ],
      "text/plain": [
       "      iteration       cost\n",
       "0             0  22.778007\n",
       "1             1  22.730923\n",
       "2             2  22.683938\n",
       "3             3  22.637053\n",
       "4             4  22.590268\n",
       "...         ...        ...\n",
       "5995       5995   0.228344\n",
       "5996       5996   0.228344\n",
       "5997       5997   0.228343\n",
       "5998       5998   0.228343\n",
       "5999       5999   0.228342\n",
       "\n",
       "[6000 rows x 2 columns]"
      ]
     },
     "execution_count": 12,
     "metadata": {},
     "output_type": "execute_result"
    }
   ],
   "source": [
    "weights_per_iter_training,cost_per_iter_training,w_gd_c_matrix_training,weights_training=grad_descent(x_training,y_training,alpha=0.001,num_iterations=6000)\n",
    "print(weights_training)\n",
    "w_gd_c_matrix_training[['iteration','cost']]\n"
   ]
  },
  {
   "cell_type": "markdown",
   "id": "9def5b0d",
   "metadata": {},
   "source": [
    "### gradient descent for testing set"
   ]
  },
  {
   "cell_type": "code",
   "execution_count": 8,
   "id": "850f000d",
   "metadata": {},
   "outputs": [
    {
     "data": {
      "text/html": [
       "<div>\n",
       "<style scoped>\n",
       "    .dataframe tbody tr th:only-of-type {\n",
       "        vertical-align: middle;\n",
       "    }\n",
       "\n",
       "    .dataframe tbody tr th {\n",
       "        vertical-align: top;\n",
       "    }\n",
       "\n",
       "    .dataframe thead th {\n",
       "        text-align: right;\n",
       "    }\n",
       "</style>\n",
       "<table border=\"1\" class=\"dataframe\">\n",
       "  <thead>\n",
       "    <tr style=\"text-align: right;\">\n",
       "      <th></th>\n",
       "      <th>iteration</th>\n",
       "      <th>cost</th>\n",
       "    </tr>\n",
       "  </thead>\n",
       "  <tbody>\n",
       "    <tr>\n",
       "      <th>0</th>\n",
       "      <td>0</td>\n",
       "      <td>20.384602</td>\n",
       "    </tr>\n",
       "    <tr>\n",
       "      <th>1</th>\n",
       "      <td>1</td>\n",
       "      <td>20.345655</td>\n",
       "    </tr>\n",
       "    <tr>\n",
       "      <th>2</th>\n",
       "      <td>2</td>\n",
       "      <td>20.306785</td>\n",
       "    </tr>\n",
       "    <tr>\n",
       "      <th>3</th>\n",
       "      <td>3</td>\n",
       "      <td>20.267992</td>\n",
       "    </tr>\n",
       "    <tr>\n",
       "      <th>4</th>\n",
       "      <td>4</td>\n",
       "      <td>20.229274</td>\n",
       "    </tr>\n",
       "    <tr>\n",
       "      <th>...</th>\n",
       "      <td>...</td>\n",
       "      <td>...</td>\n",
       "    </tr>\n",
       "    <tr>\n",
       "      <th>5995</th>\n",
       "      <td>5995</td>\n",
       "      <td>0.117823</td>\n",
       "    </tr>\n",
       "    <tr>\n",
       "      <th>5996</th>\n",
       "      <td>5996</td>\n",
       "      <td>0.117822</td>\n",
       "    </tr>\n",
       "    <tr>\n",
       "      <th>5997</th>\n",
       "      <td>5997</td>\n",
       "      <td>0.117821</td>\n",
       "    </tr>\n",
       "    <tr>\n",
       "      <th>5998</th>\n",
       "      <td>5998</td>\n",
       "      <td>0.117820</td>\n",
       "    </tr>\n",
       "    <tr>\n",
       "      <th>5999</th>\n",
       "      <td>5999</td>\n",
       "      <td>0.117819</td>\n",
       "    </tr>\n",
       "  </tbody>\n",
       "</table>\n",
       "<p>6000 rows × 2 columns</p>\n",
       "</div>"
      ],
      "text/plain": [
       "      iteration       cost\n",
       "0             0  20.384602\n",
       "1             1  20.345655\n",
       "2             2  20.306785\n",
       "3             3  20.267992\n",
       "4             4  20.229274\n",
       "...         ...        ...\n",
       "5995       5995   0.117823\n",
       "5996       5996   0.117822\n",
       "5997       5997   0.117821\n",
       "5998       5998   0.117820\n",
       "5999       5999   0.117819\n",
       "\n",
       "[6000 rows x 2 columns]"
      ]
     },
     "execution_count": 8,
     "metadata": {},
     "output_type": "execute_result"
    }
   ],
   "source": [
    "weights_per_iter_testing,cost_per_iter_testing,w_gd_c_matrix_testing,weights_testing=grad_descent(x_testing,y_testing,alpha=0.001,num_iterations=6000)\n",
    "weights_testing\n",
    "w_gd_c_matrix_testing[['iteration','cost']]\n"
   ]
  },
  {
   "cell_type": "code",
   "execution_count": 13,
   "id": "27b2087f",
   "metadata": {},
   "outputs": [
    {
     "data": {
      "text/plain": [
       "array([-3.13693616,  0.68505795,  0.61309211, -0.04114238])"
      ]
     },
     "execution_count": 13,
     "metadata": {},
     "output_type": "execute_result"
    }
   ],
   "source": [
    "weights_testing"
   ]
  },
  {
   "cell_type": "markdown",
   "id": "b28430a6",
   "metadata": {},
   "source": [
    "# PLOTTING THE MODEL"
   ]
  },
  {
   "cell_type": "markdown",
   "id": "fafb1d79",
   "metadata": {},
   "source": [
    "### 2.1 Scatterplot for training set"
   ]
  },
  {
   "cell_type": "code",
   "execution_count": 16,
   "id": "9c8d0c3f",
   "metadata": {},
   "outputs": [
    {
     "data": {
      "image/png": "[encoded data removed]",
      "text/plain": [
       "<Figure size 432x288 with 1 Axes>"
      ]
     },
     "metadata": {
      "needs_background": "light"
     },
     "output_type": "display_data"
    }
   ],
   "source": [
    "y_axis = y_training\n",
    "#SCATTER PLOTS\n",
    "tv = x_training['nm_TV']\n",
    "plt.scatter(tv,y_axis)\n",
    "\n",
    "radio = x_training['nm_Radio']\n",
    "plt.scatter(radio,y_axis)\n",
    "\n",
    "newspaper = x_training['nm_Newspaper']\n",
    "plt.scatter(newspaper,y_axis)\n",
    "\n",
    "## y_hat \n",
    "y_hat = weights_training[0] + (weights_training[1]*x_training['nm_TV']) + (weights_training[2]*x_training['nm_Radio']) + (weights_training[3]*x_training['nm_Newspaper'])\n",
    "\n",
    "y_hat_tv = weights_training[0] + weights_training[1]*x_training['nm_TV']\n",
    "y_hat_radio = weights_training[0] + weights_training[2]*x_training['nm_Radio']\n",
    "y_hat_newspaper = weights_training[0] + weights_training[3]*x_training['nm_Newspaper']\n",
    "\n",
    "\n",
    "fig1 = plt.plot(tv,y_hat_tv, lw=4,c = 'blue',label = 'regression line; TV')\n",
    "fig2 = plt.plot(radio,y_hat_radio, lw=4,c = 'orange',label = 'regression line; Radio')\n",
    "fig3 = plt.plot(newspaper,y_hat_newspaper, lw=4,c = 'green',label = 'regression line; Newspaper')\n",
    "plt.xlabel('ads expenditures')\n",
    "plt.ylabel('sales')\n",
    "plt.legend()\n",
    "plt.show()\n"
   ]
  },
  {
   "cell_type": "markdown",
   "id": "419f5cb1",
   "metadata": {},
   "source": [
    "### 2.2Scatterplot for testing"
   ]
  },
  {
   "cell_type": "code",
   "execution_count": 15,
   "id": "f9b134b8",
   "metadata": {},
   "outputs": [
    {
     "data": {
      "image/png": "[encoded data removed]",
      "text/plain": [
       "<Figure size 432x288 with 1 Axes>"
      ]
     },
     "metadata": {
      "needs_background": "light"
     },
     "output_type": "display_data"
    }
   ],
   "source": [
    "y_axis = y_testing\n",
    "#SCATTER PLOTS\n",
    "tv = x_testing['nm_TV']\n",
    "plt.scatter(tv,y_axis)\n",
    "\n",
    "radio = x_testing['nm_Radio']\n",
    "plt.scatter(radio,y_axis)\n",
    "\n",
    "newspaper = x_testing['nm_Newspaper']\n",
    "plt.scatter(newspaper,y_axis)\n",
    "\n",
    "## y_hat \n",
    "y_hat = weights_testing[0] + (weights_testing[1]*x_testing['nm_TV']) + (weights_testing[2]*x_testing['nm_Radio']) + (weights_testing[3]*x_testing['nm_Newspaper'])\n",
    "\n",
    "y_hat_tv = weights_testing[0] + weights_testing[1]*x_testing['nm_TV']\n",
    "y_hat_radio = weights_testing[0] + weights_testing[2]*x_testing['nm_Radio']\n",
    "y_hat_newspaper = weights_testing[0] + weights_testing[3]*x_testing['nm_Newspaper']\n",
    "\n",
    "\n",
    "fig1 = plt.plot(tv,y_hat_tv, lw=4,c = 'blue',label = 'regression line')\n",
    "fig2 = plt.plot(radio,y_hat_radio, lw=4,c = 'orange',label = 'regression line')\n",
    "fig3 = plt.plot(newspaper,y_hat_newspaper, lw=4,c = 'green',label = 'regression line')\n",
    "plt.xlabel('ads expenditures')\n",
    "plt.ylabel('sales')\n",
    "plt.legend()\n",
    "plt.show()\n"
   ]
  },
  {
   "cell_type": "code",
   "execution_count": 18,
   "id": "57a9eda8",
   "metadata": {},
   "outputs": [
    {
     "name": "stdout",
     "output_type": "stream",
     "text": [
      "[[array([[-0.00321715],\n",
      "         [ 0.00094808],\n",
      "         [ 0.0006043 ],\n",
      "         [ 0.00040408]])]\n",
      " [array([[-0.00643103],\n",
      "         [ 0.00189498],\n",
      "         [ 0.00120772],\n",
      "         [ 0.00080732]])]\n",
      " [array([[-0.00964163],\n",
      "         [ 0.00284073],\n",
      "         [ 0.00181027],\n",
      "         [ 0.00120974]])]\n",
      " ...\n",
      " [array([[-3.17285242],\n",
      "         [ 0.76583793],\n",
      "         [ 0.49977574],\n",
      "         [ 0.02640909]])]\n",
      " [array([[-3.17286049],\n",
      "         [ 0.76583837],\n",
      "         [ 0.49978128],\n",
      "         [ 0.02640211]])]\n",
      " [array([[-3.17286856],\n",
      "         [ 0.7658388 ],\n",
      "         [ 0.49978682],\n",
      "         [ 0.02639514]])]]\n"
     ]
    }
   ],
   "source": []
  },
  {
   "cell_type": "markdown",
   "id": "aa534250",
   "metadata": {},
   "source": [
    "## Optimal Weights and r2 score"
   ]
  },
  {
   "cell_type": "code",
   "execution_count": 24,
   "id": "f74afe99",
   "metadata": {},
   "outputs": [
    {
     "name": "stdout",
     "output_type": "stream",
     "text": [
      "optimal weights: [[-3.17286856]\n",
      " [ 0.7658388 ]\n",
      " [ 0.49978682]\n",
      " [ 0.02639514]]\n",
      "r2 score: 0.8901082496651995\n",
      "cost per iteration:  [[22.77800702]\n",
      " [22.73092257]\n",
      " [22.68393813]\n",
      " ...\n",
      " [ 0.22834326]\n",
      " [ 0.22834268]\n",
      " [ 0.2283421 ]]\n"
     ]
    }
   ],
   "source": [
    "#optimal weights\n",
    "print(\"optimal weights:\",weights_training)\n",
    "#plug into the linear model\n",
    "y_hat = weights_training[0] + (weights_training[1]*x_training['nm_TV']) + (weights_training[2]*x_training['nm_Radio']) + (weights_training[3]*x_training['nm_Newspaper'])\n",
    "print(\"r2 score:\",r2_score(y_training,y_hat))\n",
    "print(\"cost per iteration: \",cost_per_iter_training)"
   ]
  },
  {
   "cell_type": "markdown",
   "id": "c40f54f8",
   "metadata": {},
   "source": [
    "# Different Learning Rates"
   ]
  },
  {
   "cell_type": "code",
   "execution_count": 29,
   "id": "74cde9e0",
   "metadata": {},
   "outputs": [
    {
     "data": {
      "image/png": "[encoded data removed]",
      "text/plain": [
       "<Figure size 432x288 with 1 Axes>"
      ]
     },
     "metadata": {
      "needs_background": "light"
     },
     "output_type": "display_data"
    }
   ],
   "source": [
    "# plot_cost function is this\n",
    "weights_per_iter_a1,cost_per_iter_a1,w_gd_c_matrix_a1,weights_a1=grad_descent(x_training,y_training,alpha=0.1,num_iterations=6000)\n",
    "\n",
    "weights_per_iter_a2,cost_per_iter_a2,w_gd_c_matrix_a2,weights_a2=grad_descent(x_training,y_training,alpha=0.001,num_iterations=6000)\n",
    "\n",
    "weights_per_iter_a3,cost_per_iter_a3,w_gd_c_matrix_a3,weights_a3=grad_descent(x_training,y_training,alpha=0.003,num_iterations=6000)\n",
    "\n",
    "weights_per_iter_a4,cost_per_iter_a4,w_gd_c_matrix_a4,weights_a4=grad_descent(x_training,y_training,alpha=0.01,num_iterations=6000)\n",
    "\n",
    "weights_per_iter_a5,cost_per_iter_a5,w_gd_c_matrix_a5,weights_a5=grad_descent(x_training,y_training,alpha=0.00003,num_iterations=6000)\n",
    "\n",
    "weights_per_iter_a6,cost_per_iter_a6,w_gd_c_matrix_a6,weights_a6=grad_descent(x_training,y_training,alpha=0.03,num_iterations=6000)\n",
    "\n",
    "weights_per_iter_a7,cost_per_iter_a7,w_gd_c_matrix_a7,weights_a7=grad_descent(x_training,y_training,alpha=0.3,num_iterations=6000)\n",
    "\n",
    "plt.plot(w_gd_c_matrix_a1['iteration'],w_gd_c_matrix_a1['cost'],label =\"alpha = 0.1\")\n",
    "plt.plot(w_gd_c_matrix_a2['iteration'],w_gd_c_matrix_a2['cost'],label =\"alpha = 0.001\")\n",
    "plt.plot(w_gd_c_matrix_a3['iteration'],w_gd_c_matrix_a3['cost'],label =\"alpha = 0.003\")\n",
    "plt.plot(w_gd_c_matrix_a4['iteration'],w_gd_c_matrix_a4['cost'],label =\"alpha = 0.01\")\n",
    "plt.plot(w_gd_c_matrix_a5['iteration'],w_gd_c_matrix_a5['cost'],label =\"alpha = 0.00003\")\n",
    "plt.plot(w_gd_c_matrix_a6['iteration'],w_gd_c_matrix_a6['cost'],label =\"alpha = 0.03\")\n",
    "plt.plot(w_gd_c_matrix_a7['iteration'],w_gd_c_matrix_a7['cost'],label =\"alpha = 0.3\")\n",
    "\n",
    "plt.legend()\n",
    "plt.ylabel(\"Cost\")\n",
    "plt.xlabel(\"Optimal Number of Iterations\")\n",
    "plt.title(\"Cost function vs optimal number of iterations\")\n",
    "\n",
    "plt.show()"
   ]
  }
 ],
 "metadata": {
  "kernelspec": {
   "display_name": "Python 3 (ipykernel)",
   "language": "python",
   "name": "python3"
  },
  "language_info": {
   "codemirror_mode": {
    "name": "ipython",
    "version": 3
   },
   "file_extension": ".py",
   "mimetype": "text/x-python",
   "name": "python",
   "nbconvert_exporter": "python",
   "pygments_lexer": "ipython3",
   "version": "3.9.12"
  }
 },
 "nbformat": 4,
 "nbformat_minor": 5
}
